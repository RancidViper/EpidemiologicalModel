{
 "cells": [
  {
   "cell_type": "code",
   "execution_count": 1,
   "metadata": {},
   "outputs": [],
   "source": [
    "# Importing required packages\n",
    "import pandas as pd\n",
    "import numpy as np\n",
    "import plotly.express as px\n",
    "import matplotlib.pyplot as plt\n",
    "from scipy.integrate import odeint"
   ]
  },
  {
   "cell_type": "code",
   "execution_count": 2,
   "metadata": {},
   "outputs": [
    {
     "data": {
      "text/plain": [
       "(9291, 5)"
      ]
     },
     "execution_count": 2,
     "metadata": {},
     "output_type": "execute_result"
    }
   ],
   "source": [
    "Data = pd.read_csv(\"C:\\\\Users\\\\Admin\\\\Desktop\\\\Data.csv\")\n",
    "Data.shape"
   ]
  },
  {
   "cell_type": "code",
   "execution_count": 3,
   "metadata": {},
   "outputs": [
    {
     "data": {
      "text/plain": [
       "False"
      ]
     },
     "execution_count": 3,
     "metadata": {},
     "output_type": "execute_result"
    }
   ],
   "source": [
    "Data.isnull().values.any()"
   ]
  },
  {
   "cell_type": "code",
   "execution_count": null,
   "metadata": {},
   "outputs": [],
   "source": [
    "Data"
   ]
  },
  {
   "cell_type": "code",
   "execution_count": 5,
   "metadata": {},
   "outputs": [],
   "source": [
    "Active = Data['Infected'].values - Data['Recovered'].values\n",
    "Recovered = Data['Recovered'].values"
   ]
  },
  {
   "cell_type": "code",
   "execution_count": null,
   "metadata": {},
   "outputs": [],
   "source": [
    "fig = px.line(x = Data['Date'], y = Active, \n",
    "              title = 'Active Cases', labels = {'x' : 'Days', \n",
    "                                              'y' : \"Active\" })\n",
    "fig.show()"
   ]
  },
  {
   "cell_type": "code",
   "execution_count": null,
   "metadata": {},
   "outputs": [],
   "source": [
    "fig = px.line(x = Data['Date'], y = Recovered, \n",
    "              title = 'Active Cases', labels = {'x' : 'Days', \n",
    "                                              'y' : \"Active\" })\n",
    "fig.show()"
   ]
  },
  {
   "cell_type": "code",
   "execution_count": 8,
   "metadata": {},
   "outputs": [],
   "source": [
    "N = 1300000000\n",
    "I0, R0 = 7, 0\n",
    "S0 = N - I0 - R0\n",
    "beta, gamma = 0.2, 1.00/10"
   ]
  },
  {
   "cell_type": "markdown",
   "metadata": {},
   "source": [
    "**beta** is the number of people an individual from the infected group comes in contact with individuals of the susceptible group per day.\n",
    "\n",
    "**gamma** is the number of days an individual from the infected group takes to transition into the recovered group."
   ]
  },
  {
   "cell_type": "code",
   "execution_count": 9,
   "metadata": {},
   "outputs": [],
   "source": [
    "t = np.linspace(0, 300, 300)"
   ]
  },
  {
   "cell_type": "markdown",
   "metadata": {},
   "source": [
    "We'll need to use differential equations to calculate the population change over time.\n",
    "\n",
    "#### ds/dt = - beta * (S / N) * I\n",
    "Change in Susceptible Group\n",
    "\n",
    "#### di/dt = beta * (S / N) * I - gamma * I\n",
    "Change in Infected Group\n",
    "\n",
    "#### dr/dt = gamma * I\n",
    "Change in Recovered Group\n"
   ]
  },
  {
   "cell_type": "code",
   "execution_count": 10,
   "metadata": {},
   "outputs": [],
   "source": [
    "# The SIR model differential equations\n",
    "def deriv(y, t, N, beta, gamma):\n",
    "    S, I, R = y\n",
    "    # Change in S population over time\n",
    "    dSdt = -beta * S * I / N\n",
    "    # Change in I population over time\n",
    "    dIdt = beta * S * I / N - gamma * I\n",
    "     # Change in R population over time\n",
    "    dRdt = gamma * I\n",
    "    return dSdt, dIdt, dRdt"
   ]
  },
  {
   "cell_type": "markdown",
   "metadata": {},
   "source": [
    "The Deriv function Calculates the change in all the stages of the Corona Virus model."
   ]
  },
  {
   "cell_type": "code",
   "execution_count": 11,
   "metadata": {},
   "outputs": [],
   "source": [
    "y0 = S0, I0, R0"
   ]
  },
  {
   "cell_type": "code",
   "execution_count": 12,
   "metadata": {},
   "outputs": [],
   "source": [
    "Days = range(0, 315)\n",
    "\n",
    "ret = odeint(deriv, y0, Days, args=(N, beta, gamma))\n",
    "S, I, R = ret.T"
   ]
  },
  {
   "cell_type": "code",
   "execution_count": null,
   "metadata": {},
   "outputs": [],
   "source": [
    "DF = pd.DataFrame({'Suseptible': S,\n",
    "                   'Infected': I,\n",
    "                   'Recovered': R,\n",
    "                   'Day': Days})\n",
    "DF  "
   ]
  },
  {
   "cell_type": "code",
   "execution_count": null,
   "metadata": {},
   "outputs": [],
   "source": [
    "Days = DF['Day']\n",
    "Susceptible = DF['Suseptible']\n",
    "Infected = DF['Infected']\n",
    "Recovered = DF['Recovered']\n",
    "plt.plot(Days, Infected, linestyle = '-', color = 'blue', label = 'Infected')\n",
    "plt.plot(Days, Recovered, linestyle = '-', color = 'green', label = 'Recovered')\n",
    "plt.plot(Days, Susceptible, linestyle = '-', color = 'red', label = 'Susceptible')\n",
    "plt.xlabel('Days')\n",
    "plt.ylabel('Number')\n",
    "plt.tight_layout()\n",
    "plt.legend()\n",
    "plt.show()"
   ]
  },
  {
   "cell_type": "code",
   "execution_count": 15,
   "metadata": {},
   "outputs": [],
   "source": [
    "DF.to_csv('FinalData.csv') "
   ]
  }
 ],
 "metadata": {
  "kernelspec": {
   "display_name": "Python 3",
   "language": "python",
   "name": "python3"
  },
  "language_info": {
   "codemirror_mode": {
    "name": "ipython",
    "version": 3
   },
   "file_extension": ".py",
   "mimetype": "text/x-python",
   "name": "python",
   "nbconvert_exporter": "python",
   "pygments_lexer": "ipython3",
   "version": "3.7.4"
  }
 },
 "nbformat": 4,
 "nbformat_minor": 2
}
